{
  "nbformat": 4,
  "nbformat_minor": 0,
  "metadata": {
    "colab": {
      "provenance": []
    },
    "kernelspec": {
      "name": "python3",
      "display_name": "Python 3"
    },
    "language_info": {
      "name": "python"
    }
  },
  "cells": [
    {
      "cell_type": "markdown",
      "source": [
        "<a href=\"https://colab.research.google.com/github/sscalvo/cursoPython/blob/main/Python_Dia5.ipynb\" target=\"_parent\"><img src=\"https://colab.research.google.com/assets/colab-badge.svg\" alt=\"Open In Colab\"/></a>"
      ],
      "metadata": {
        "id": "V7lCih_P10Lr"
      }
    },
    {
      "cell_type": "markdown",
      "source": [
        "# Curso Python - Dia 5\n",
        "## Unpacking\n",
        "Ya hemos visto algunos casos de uso del operador unpacking:\n",
        "\n",
        "```\n",
        "a, *b = [1, 2, 3, 4] # Resultado: a = 1   y    b = [2, 3, 4]\n",
        " ```\n",
        "\n",
        "Podemos darle otros usos interesantes:\n",
        "\n",
        "```\n",
        "# Unir dos (o más) listas\n",
        "lista1 = [1, 2, 3]\n",
        "lista2 = [4, 5, 6]\n",
        "ambas_listas = [*lista1, *lista2]\n",
        "```\n",
        "```\n",
        "# Unir dos (o más) diccionarios\n",
        "dict1 = {\"A\": 1, \"B\": 2}\n",
        "dict2 = {\"C\": 3, \"D\": 4}\n",
        "ambos_dict = {**dict1, **dict2} \n",
        "```\n",
        "```\n",
        "# La siguiente función acepta un número variable de argumentos. Si nuestros datos están en listas, podemos usar el unpacking para pasar los parámetros\n",
        "def suma(*args):\n",
        "  return sum(args)\n",
        "\n",
        "datos1 = [34, 23, 56]\n",
        "datos2 = [4, 73, 18]\n",
        "suma(*datos1, *datos2) # También con literales: suma(*[34, 23, 56], *[4, 73, 18]) \n",
        "```\n",
        "\n"
      ],
      "metadata": {
        "id": "jAZn69F8GaNv"
      }
    },
    {
      "cell_type": "markdown",
      "source": [
        "## zip\n",
        "El método built-in zip() recibe iterables o contenedores y devuelve un solo objeto también iterable, con los correspondientes valores de todos los contenedores (pueden ser más de dos) empaquetados en tuplas.\n",
        "Se usa para mapear grupos y poder usarlos como una sola entidad.\n",
        "![picture](https://drive.google.com/uc?id=1_lME3I_oQbTHMqLe0YqBo4-EFlgBtLGJ)\n",
        "\n",
        "```\n",
        "grupo1 = [1, 2, 3, 4]\n",
        "```\n",
        "```\n",
        "grupo2 = [A, B, C, D]\n",
        "```\n",
        "\n",
        "Si los pasamos como argumentos de la función zip, obtenemos una lista de tuplas, donde el primer elemento de la tupla corresponde con el primer elemento del grupo1, y el segundo elemento de la tupla corresponde con el primer elemento del grupo2, y así sucesivamente\n",
        "\n",
        "\n",
        "\n",
        "```\n",
        "z = zip(grupo1, grupo2) # [(1, A), (2, B), (3, C), (4, D)]  \n",
        "\n",
        "```\n",
        "\n",
        "### unzip\n",
        "Podemos hacer un-zip mediante el operador * para restaurar los grupos originales:\n",
        "\n",
        "\n",
        "![picture](https://drive.google.com/uc?id=1qW-aT2XVVJvsGXZJA13PBF_6dksOKCcg)\n",
        "\n",
        "\n",
        "\n",
        "\n"
      ],
      "metadata": {
        "id": "dzG7-jmLaVwU"
      }
    },
    {
      "cell_type": "markdown",
      "source": [],
      "metadata": {
        "id": "zwio81ZDbOj0"
      }
    },
    {
      "cell_type": "markdown",
      "source": [
        "## enumerate\n",
        "Muchas veces, al iterar sobre una lista (o cualquier otro iterable), necesitamos llevar un conteo del número de iteraciones que llevamos hasta el momento (la típica variable i ó contador). enumerate es un método built-in que añade un contador al iterable, devolviendo un objeto de tipo enumerate (que, por cierto, también es un iterable)\n",
        "\n",
        "```\n",
        "lista = ['a', 'b', 'c', 'd'] \n",
        "enum = enumerate(lista, start=1)\n",
        "print(list(enum))            # Resultado: [(0, 'a'), (1, 'b'), (2, 'c'), (3, 'd')]\n",
        "```\n",
        "Podemos usar enumerate directamente en bucles y comprehension lists:\n",
        "\n",
        "```\n",
        "# Bucle for:\n",
        "for elem in enumerate(lista):\n",
        "    print(elem, end='')      # Imprime: (0, 1)(1, 2)(2, 3)(3, 4)\n",
        "```\n",
        "```\n",
        "# Comprehension list:\n",
        "[x for x in lista]            # Resultado: ['a', 'b', 'c', 'd'] \n",
        "[x for x in enumerate(lista)] # Resultado: [(0, 'a'), (1, 'b'), (2, 'c'), (3, 'd')]\n",
        "```\n",
        "```\n",
        "# Podemos hacer unpacking \n",
        "[f'Indice de {val} es {index}' for index, val in enumerate(lista)] \n",
        "# ['Indice de a es 0', 'Indice de b es 1', 'Indice de c es 2', 'Indice de d es 3']\n",
        "```\n",
        "\n"
      ],
      "metadata": {
        "id": "w2BJkwPisU2B"
      }
    },
    {
      "cell_type": "markdown",
      "source": [
        "## Algunos ejemplos\n",
        "Calcula la suma de los enteros entre 10 y 1000 (incluidos)\n",
        "![picture](https://drive.google.com/uc?id=1gvhrtom0Ce5p3HP_VYeaNUrWkbBesK1A)\n",
        "\n",
        "Decir si un string está incluido en una lista\n",
        "\n",
        "![picture](https://drive.google.com/uc?id=1OSA5O3vftRZrZuWy9ecnbRjI17Nuft3o)\n",
        "\n",
        "Duplicar el valor de cada elemento par de la lista\n",
        "\n",
        "![picture](https://drive.google.com/uc?id=1l5XF47kCxo4Oa5fDKbRfRmq6bELZKN92)\n"
      ],
      "metadata": {
        "id": "7ey_8FK_s6ch"
      }
    },
    {
      "cell_type": "markdown",
      "source": [
        "### POO - Programación Orientada a Objetos\n",
        "![picture](https://drive.google.com/uc?id=15ONrx2hq6VptF3yPTiNInC03hmSRmLls)\n",
        "####Clases y objetos\n",
        "Python soporta la programación orientada a objetos. En Python todo es un objeto, con sus propiedades y métodos.\n",
        "\n",
        "Cada vez que usamos una lista, una tupla, un string, un entero, etc estamos eligiendo un molde u otro (un molde es una clase) para generar una nueva galleta (una galleta es un objeto generado con un molde). \n",
        "\n",
        "Por ejemplo, con un solo molde de corazón podemos generar muchas galletas con forma de corazón. Uno podría pensar que, en principio, todas esas galletas son idénticas. Sin embargo, podemos tener galletas corazón de distintos sabores (limón, gengibre, chocolate)  o podemos decorarlas de distinta manera (azucar, mermelada, almendras, etc). \n",
        "\n",
        "Cada galleta  es única. De igual manera, cada objeto string es único, incluso aunque represente la misma cadena de texto.\n",
        "\n",
        "\n",
        "\n",
        "\n",
        "\n"
      ],
      "metadata": {
        "id": "lbTG9Wxlu1Bz"
      }
    },
    {
      "cell_type": "markdown",
      "source": [
        "#### Definiendo clases y creando objetos\n",
        "```\n",
        "# La clase Cuenta define el estandar de cualquier cuenta bancaria. \n",
        "class Cuenta:\n",
        "  pass\n",
        "```\n",
        "¿Y cómo creamos un objeto de tipo Cuenta? Al proceso de hundir el molde en la masa (para generar una nueva galleta) se le llama instanciación.\n",
        "```\n",
        "c1 = Cuenta() # instanciación \n",
        "print(c1)\n",
        "\n",
        "```\n",
        "Nuestra clase Cuenta es muy básica. Ahora digamos que cada vez que un cliente abre una cuenta queremos almacenar la siguiente información (datos)\n",
        "* identificador de cliente\n",
        "* nombre\n",
        "* saldo\n",
        " \n",
        "y también queremos ser capaces de realizar las siguientes operaciones (métodos) sobre esos datos: \n",
        "\n",
        "* depositar\n",
        "* retirar\n",
        "```\n",
        "# Así pues, si quiero inicializar un objeto (o instancia) a un estado concreto,\n",
        "# debo pasarle esos valores en el momento de la creación (instanciación):\n",
        "c1 = Cuenta(\"111\", \"Pedro\") \n",
        "```\n",
        "A ojos de la persona que programa la clase , el momento de la instanciación, queda disponible a través de un método especial llamado __init__ (Python lo ejecuta implicitamente) \n",
        "\n"
      ],
      "metadata": {
        "id": "9C8kpV9pv1Db"
      }
    },
    {
      "cell_type": "markdown",
      "source": [
        "#### Instanciación \n",
        "Nos gustaría garantizar que los objetos de tipo Cuenta tienen un estado inicial apropiado. Podemos redefinir el método __init__() añadiéndole argumentos necesarios que satisfagan nuestras necesidades:\n",
        "```\n",
        "# En este ejemplo, no queremos construir ninguna cuenta bancaria sin nombre, ni id. Queremos pasarle esos valores en el momento de la creación (instanciación):\n",
        "c1 = Cuenta(\"111\", \"Pedro\")\n",
        "c2 = Cuenta(\"112\", \"Marta\", 100) \n",
        "```\n",
        "Para lograr el comportamiento anterior, a ojos de la persona que programa la clase , el momento de la instanciación, queda disponible a través de un método especial llamado __init__() (Python lo ejecuta implicitamente). El programador/diseñador de la clase debe redefinir apropiadamente el método __init__()\n",
        "\n",
        "```\n",
        "# Como programador/diseñador de la clase, he de encargarme de 'almacenar' los parámetros del \n",
        "# método __init__()\n",
        "class Cuenta:\n",
        "    def __init__(self, el_id, un_nombre, saldo=0): # ¿Qué es self?\n",
        "        self.id = el_id\n",
        "        self.nombre = un_nombre\n",
        "        self.saldo = saldo\n",
        "```\n",
        "\n",
        "\n",
        "\n",
        "```\n",
        "c1 = Cuenta() # Error __init__() missing 2 required positional arguments\n",
        "c1 = Cuenta(\"101\", \"Pedro\", 100) # Creamos un objeto (o instancia) de tipo Cuenta\n",
        "# Podemos acceder a sus atributos (variables) con la sintaxis: nombre.variable\n",
        "print(c1.id, c1.nombre, c1.saldo) # 101 Pedro 100\n",
        "```\n",
        "\n",
        "\n",
        "\n"
      ],
      "metadata": {
        "id": "blOKhcKMv257"
      }
    },
    {
      "cell_type": "markdown",
      "source": [
        "#### Agregando funcionalidad: depositar y retirar\n",
        "Por ahora nuestra clase Cuenta es muy sencilla. Vamos a añadir un poco más de funcionalidad agregando un par de métodos: depositar y retirar.\n",
        "\n",
        "class Cuenta:\n",
        "    def __init__(self, el_id, un_nombre, saldo=0):\n",
        "        ...\n",
        "\n",
        "    def depositar(self, mas_saldo): # Adicional: comprobar que mas_saldo > 0\n",
        "        self.saldo += mas_saldo\n",
        "\n",
        "    # Ejercicio: Implementar el método retirar. Comprobar que hay suficiente saldo!\n",
        "    def retirar(...\n",
        "\n",
        "Usemos nuestro nuevos métodos!\n",
        "```\n",
        "c1 = Cuenta(\"111\", \"Pedro\")\n",
        "print(f'El saldo de {c1.nombre} es {c1.saldo}') # El saldo de Pedro es 0\n",
        "c1.depositar(250)\n",
        "print(f'El saldo de {c1.nombre} es {c1.saldo}') # El saldo de Pedro es 250\n",
        "c1.retirar(200)\n",
        "print(f'El saldo de {c1.nombre} es {c1.saldo}') # El saldo de Pedro es 50\n",
        "```\n",
        "\n",
        "```\n",
        "# Que pasa si imprimo el 'c1'\n",
        "print(c1) # <__main__.Cuenta object at 0x000001C57B74AFD0> # Redefinamos el dunder __repr__\n",
        "\n",
        "```\n",
        "\n"
      ],
      "metadata": {
        "id": "aAigqfLOwJgk"
      }
    },
    {
      "cell_type": "markdown",
      "source": [
        "#### Metodos mágicos (dunder): Redefiniendo __repr__ \n",
        "Hasta ahora imprimimos por pantalla los contenidos de nuestros objetos asi:\n",
        "```\n",
        "c1 = Cuenta(\"111\", \"Pedro\")\n",
        "print(f'El saldo de {c1.nombre} es {c1.saldo}') # El saldo de Pedro es 0\n",
        "```\n",
        "Si pasamos el objeto c1 al método print..\n",
        "```\n",
        "print(c1) # <__main__.Cuenta object at 0x000002026408B8E0>\n",
        "```\n",
        "Sabemos que el método print, internamente invoca el dunder __repr__, así que vamos a sobreescribirlo para agregar nuestra propia funcionalidad:\n",
        "\n",
        "\n",
        "```\n",
        "class Cuenta:\n",
        "    def __init__(self, el_id, un_nombre, saldo=0):\n",
        "        ...\n",
        "\n",
        "    def __repr__(self): # sobreescritura de __repr__\n",
        "        . . .\n",
        "```\n",
        "Ahora es mas sencillo y cómodo imprimir los contenidos del objeto, ya que solo necesitamos la referencia a print:\n",
        "\n",
        "\n",
        "```\n",
        "print(c1) # <Cuenta>id: 111 Nombre: Pedro  Saldo: 0\n",
        "```\n",
        "\n",
        "\n",
        "\n",
        "\n"
      ],
      "metadata": {
        "id": "AL3D3ICGwe-T"
      }
    }
  ]
}