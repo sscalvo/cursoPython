{
  "nbformat": 4,
  "nbformat_minor": 0,
  "metadata": {
    "colab": {
      "provenance": []
    },
    "kernelspec": {
      "name": "python3",
      "display_name": "Python 3"
    },
    "language_info": {
      "name": "python"
    }
  },
  "cells": [
    {
      "cell_type": "markdown",
      "source": [
        "<a href=\"https://github.com/sscalvo/cursoPython/blob/main/Python_Dia1.ipynb\" target=\"_parent\"><img src=\"https://colab.research.google.com/assets/colab-badge.svg\" alt=\"Open In Colab\"/></a>"
      ],
      "metadata": {
        "id": "V7lCih_P10Lr"
      }
    },
    {
      "cell_type": "markdown",
      "source": [
        "# Curso Python - Dia 2\n",
        "## Tipo de datos String\n",
        "Podemos usar:\n",
        "* 'comillas simples'\n",
        "* \"comillas dobles\"\n",
        "* Tres comillas \"\"\"dobles\"\"\" o '''simples''' se usan como comentarios de documentación\n",
        "\n",
        "Proveen un montón de métodos para solucionar problemas frecuentes:\n",
        "* ```\"una manzana\".capitalize() ``` # 'Una manzana'\n",
        "* ```\"una manzana\".title() ``` # 'Una Manzana'\n",
        "* ```\"una manzana\".find('z') ``` # 7\n",
        "* ```\"una manzana\".count('a') ``` # 4\n",
        "* ```\"una manzana\".removeprefix('un') ``` # 'a manzana'\n",
        "* ```\"una manzana\".upper() ``` # 'UNA MANZANA'\n",
        "* ```\"una manzana\".replace('a', 'o') ``` # 'uno monzono'\n",
        "* Un listado completo aqui https://docs.python.org/3/library/stdtypes.html#string-methods\n",
        "\n",
        "Se puede usar slicing para acceder a subcadenas de una cadena:\n",
        "          \n",
        "```\n",
        "cadena = 'Anaconda' \n",
        "\n",
        "              ['A', 'n', 'a', 'c', 'o', 'n', 'd', 'a']\n",
        "                0    1    2    3    4    5    6    7 \n",
        "```\n",
        "¿Qué imprime...\n",
        "* ```print(cadena[0])```              # A            \n",
        "* ```print(cadena[0:3])```            # Ana\n",
        "* ```print(cadena[::])```             # Anaconda\n",
        "* ```print(cadena[:])```              # Anaconda\n",
        "¿Cómo imprimir 'conda'?```\n",
        "* ```print(cadena[3:])```             # conda\n",
        "¿Qué imprime...\n",
        "* ```print(cadena[3:])```             # conda\n",
        "* ```print(cadena[3::])```            # conda\n",
        "* ```print(cadena[3:10])```           # conda\n",
        "* ```print(cadena[1:10:2])```         # ncna\n",
        "* ```print(cadena[::2])```            # Aaod\n",
        "* ```print(cadena[1:-1])```           # nacond\n",
        "* ```print(cadena[-1:1])```           # ''\n",
        "* ```print(cadena[-1:1:-1])```        # adnoca\n"
      ],
      "metadata": {
        "id": "jAZn69F8GaNv"
      }
    },
    {
      "cell_type": "markdown",
      "source": [
        "## f-strings (string interpolation)\n",
        "Las cadenas empiezan con una f e inyectamos variables y/o expresiones entre llaves:  {variable}\n",
        "\n",
        "* f'Mi nombre es {nombre} y tengo {edad} años'\n",
        "* f'El area del triángulo es { (base * altura) / 2}'\n",
        "* Sintaxis para formateando decimales: ```{[valor]:[ancho][.precision][tipo]}```\n",
        "* f'El valor de PI es: {math.pi:.4f}'\n",
        "* f\"{'Texto alineado a la derecha' : >30}\"\n",
        "\n"
      ],
      "metadata": {
        "id": "a6HVuQhqtc8Y"
      }
    },
    {
      "cell_type": "markdown",
      "source": [
        "\n",
        "# Tipo de datos complejos\n",
        "\n",
        "* **Listas**: Análogo a los arrays en otros lenguajes. \n",
        "* **Tuplas**: Similar a las listas son inmutables (no modificables)\n",
        "* **Set**: Un hibrido de los dos anteriores que no permite duplicados\n",
        "* **Diccionario**: Análogo a una tabla hash\n",
        "\n",
        "![picture](https://drive.google.com/uc?id=1MQJRh_rnMaFVHkaSwx4XA7S0GAwp2pbE)\n",
        "\n",
        "\n"
      ],
      "metadata": {
        "id": "PCUomlsP7gps"
      }
    },
    {
      "cell_type": "markdown",
      "source": [
        "# Listas\n",
        "#### CREACION de una lista\n",
        "Con la función built-in  &nbsp;&nbsp;&nbsp;&nbsp; ```lista1 = list()    ```     \n",
        "o con corchetes vacios &nbsp;&nbsp;&nbsp;&nbsp;```lista2 = []```  \n",
        "\n",
        "También podemos pasar valores iniciales         \n",
        "```frutas = ['piña', 'pera', 'fresa']    ```\n",
        "\n",
        "#### TIPOS - Las listas pueden contener distintos tipos de datos\n",
        "```varios = ['sergio', 47, True, ['Python', 'HTML', 'Java']]```\n",
        "\n",
        "#### MUTABLES - Las listas son mutables (modificables)\n",
        "```\n",
        "frutas = ['piña', 'pera', 'fresa']\n",
        "frutas[1] = 'manzana'    # ['piña', 'manzana', 'fresa']\n",
        "```\n",
        "#### PERTENENCIA - Usamos el operador in para comprobar si un elemento está en la lista\n",
        "\n",
        "```\n",
        "existe_pera  = 'pera' in frutas     # False\n",
        "existe_fresa = 'fresa' in frutas    # True\n",
        "```\n",
        "\n",
        "#### METODO append() - Permite agregar elementos a una lista\n",
        "```\n",
        "frutas.append('platano')   # o añadir valores manualmente mediante append()\n",
        "frutas.append('sandia')    # ['piña', 'pera', 'fresa', 'platano', 'sandia']  \n",
        "```\n",
        "\n",
        "#### METODO remove() - Permite eliminar la primera ocurrencia de una lista\n",
        "```\n",
        "frutas.remove('pera')      # ['piña', 'fresa', 'platano', 'sandia']\n",
        "frutas.remove('pera')      # Error: ValueError x not in list\n",
        "```\n",
        "\n",
        "#### METODO insert() - Permite insertar un elemento en la posición deseada\n",
        "```\n",
        "frutas.insert(2, 'uva')    # ['piña', 'fresa', 'uva', 'platano', 'sandia']\n",
        "```\n",
        "\n",
        "#### METODO pop() - Permite eliminar -el elemento- de la posición deseada (pr defecto el último)\n",
        "```\n",
        "frutas.pop()               # ['piña', 'fresa', 'uva', 'platano']\n",
        "frutas.pop(2)              # ['piña', 'fresa', 'platano']\n",
        "```\n",
        "\n",
        "#### UNIENDO listas - Podemos usar  +  o el METODO extend()\n",
        "```\n",
        "n1 = [1, 2, 3]\n",
        "n2 = [23, 34, 45]\n",
        "total = n1 + n2         # [1, 2, 3, 23, 34, 45]    \n",
        "```\n",
        "\n",
        "#### METODO extend() (no confundir con metodo append() )\n",
        "```\n",
        "n1.extend(n2)\n",
        "print(n1)                  # [1, 2, 3, 23, 34, 45]  \n",
        "```\n",
        "\n",
        "#### METODO reverse() - Darle la vuelta a una lista\n",
        "```\n",
        "frutas = ['piña', 'pera', 'fresa', 'pera', 'platano', 'sandia'] \n",
        "frutas.reverse()      # ['sandia', 'platano', 'pera', 'fresa', 'pera', 'piña']\n",
        "```\n",
        "\n",
        "#### METODO sort() - Ordena la lista asc. (orden descendente si **reverse**=True). MODIFICA la lista original\n",
        "```\n",
        "frutas.sort()        # ['fresa', 'pera', 'pera', 'piña', 'platano', 'sandia']\n",
        "```\n",
        "\n",
        "#### FUNCION sorted() - Idem. No modifica la lista original. (Función built-in)\n",
        "```\n",
        "frutas = ['fresa', 'pera', 'pera', 'piña', 'platano', 'sandia']\n",
        "print(sorted(frutas))     # ['fresa', 'pera', 'pera', 'piña', 'platano', 'sandia']\n",
        "```"
      ],
      "metadata": {
        "id": "yktvraqN7wFj"
      }
    }
  ]
}