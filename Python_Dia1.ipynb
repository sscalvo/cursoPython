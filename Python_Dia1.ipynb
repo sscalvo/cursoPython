{
  "nbformat": 4,
  "nbformat_minor": 0,
  "metadata": {
    "colab": {
      "provenance": []
    },
    "kernelspec": {
      "name": "python3",
      "display_name": "Python 3"
    },
    "language_info": {
      "name": "python"
    }
  },
  "cells": [
    {
      "cell_type": "markdown",
      "source": [
        "<a href=\"https://colab.research.google.com/github/sscalvo/cursoPython/blob/main/Python_Dia1.ipynb\" target=\"_parent\"><img src=\"https://colab.research.google.com/assets/colab-badge.svg\" alt=\"Open In Colab\"/></a>"
      ],
      "metadata": {
        "id": "V7lCih_P10Lr"
      }
    },
    {
      "cell_type": "markdown",
      "source": [
        "# Curso Python\n",
        "* No se usan { }\n",
        "* No se declaran los tipos (a diferencia de Java o C)\n",
        "* No usa camelCase sino snake_case   \n",
        "* Indentado \n",
        "* Tipado dinámico, pero **fuertemente tipado** (en JavaScript esto funciona: **10 + 3 + \"2\"  &nbsp;&nbsp;&nbsp;&nbsp;&nbsp;  \"2\" + 10 + 3**). Abre una celda y corrígelo\n",
        "\n",
        "\n",
        "\n",
        "\n"
      ],
      "metadata": {
        "id": "jAZn69F8GaNv"
      }
    },
    {
      "cell_type": "markdown",
      "source": [
        "\n",
        "## Palabras reservadas\n",
        "Crea una celda nueva y usa el comando **help('keywords')** para obtener un listado de las palabras reservadas de Python"
      ],
      "metadata": {
        "id": "xXHYbEbclYUS"
      }
    },
    {
      "cell_type": "markdown",
      "source": [
        "\n",
        "## Funciones predefinidas (builtins)\n",
        "Listado de funciones que vienen disponibles por defecto en Python\n",
        "\n",
        "![picture](https://drive.google.com/uc?id=1iYprRQ27QsBEsKocHLwLFpB8S5zL-xS2)"
      ],
      "metadata": {
        "id": "bNmp5dDDAXAw"
      }
    },
    {
      "cell_type": "markdown",
      "source": [
        "## Tipos de datos\n",
        "\n",
        "*   Numéricos"
      ],
      "metadata": {
        "id": "fJHWEviRlRKN"
      }
    },
    {
      "cell_type": "code",
      "source": [
        "# Convertir entero a decimal (float)\n",
        "entero = 10\n",
        "print('entero',entero)           \n",
        "decimal = float(entero)\n",
        "print('decimal:', decimal)       \n",
        "\n",
        "# Convertir un valor con decimales a entero\n",
        "gravedad = 9.81\n",
        "print(int(gravedad))             \n",
        "print(type(int(gravedad)))       \n",
        "\n",
        "# Convertir entero a string\n",
        "cadena = str(entero)\n",
        "print(cadena)                    \n",
        "\n",
        "# Convertir string a entero o decimal\n",
        "cadena = '14' \n",
        "print('entero', int(cadena))    \n",
        "print('decimal', float(cadena))  "
      ],
      "metadata": {
        "id": "ZPeG9kTLi8Y3"
      },
      "execution_count": null,
      "outputs": []
    },
    {
      "cell_type": "markdown",
      "source": [
        "## Operadores\n",
        "\n",
        "*   Operadores aritméticos\n",
        "\n",
        "![picture](https://drive.google.com/uc?id=1Nv9rfDdMhr70JU0VtImGF5SyiN3lbZsQ)\n",
        "\n",
        "*   Operadores de asignación\n",
        "\n",
        "![picture](https://drive.google.com/uc?id=1kiqIZw-Ke4hNzNsTUCSnMHbnR0F6JUii)\n",
        "\n",
        "*   Operadores de comparación\n",
        "\n",
        "![picture](https://drive.google.com/uc?id=1_UXgm0Ko_uh0rssF8Sqf_c4pmIylBINI)\n",
        "\n",
        "*   Operadores lógicos\n",
        "\n",
        "![picture](https://drive.google.com/uc?id=1KT0TpdqLgAoxze2NHQM2s8snz4Pt7bam)"
      ],
      "metadata": {
        "id": "oh-Yf0Le9MXC"
      }
    },
    {
      "cell_type": "markdown",
      "source": [
        "# Ejercicios de repaso"
      ],
      "metadata": {
        "id": "SSQ1X3ZM_mRH"
      }
    },
    {
      "cell_type": "markdown",
      "source": [
        "\n",
        "\n",
        "---\n",
        "\n",
        "\n",
        "## Calcula la distancia entre dos puntos del plano cartesiano\n",
        "* Punto 1 es (0,0)\n",
        "* Punto 2 es (3,4) \n",
        "\n",
        "Fórmula para calcular la hipotenusa de un triangulo:\n",
        "\n",
        "$$d= \\sqrt { ({x_2-x_1 })^{2} + ({y_2-y_1 })^{2} } $$\n",
        "\n",
        "Puedes obtener ayuda usando **help('math')** \n",
        "\n",
        "Puedes ver aqui la imagen:\n",
        "\n",
        "![picture](https://ecuaciones.online/wp-content/uploads/2018/08/distancia-entre-dos-puntos-en-el-plano.jpg)\n"
      ],
      "metadata": {
        "id": "YIQhbhgxoqeU"
      }
    },
    {
      "cell_type": "code",
      "execution_count": null,
      "metadata": {
        "id": "V9dNsj0VFpAg"
      },
      "outputs": [],
      "source": [
        "# Calcular distancia entre dos puntos:\n",
        "\n"
      ]
    },
    {
      "cell_type": "markdown",
      "source": [
        "Haremos ahora la versión genérica, para cualquier par de puntos. Preguntaremos al usuario por cada una de las coordenadas, usando la función **input()** "
      ],
      "metadata": {
        "id": "3RUSMZD4uD5B"
      }
    },
    {
      "cell_type": "code",
      "source": [
        "# Distancia entre dos puntos cualquiera"
      ],
      "metadata": {
        "id": "QhAqlNo2uVgB"
      },
      "execution_count": null,
      "outputs": []
    },
    {
      "cell_type": "markdown",
      "source": [
        "\n",
        "\n",
        "---\n",
        "\n",
        "\n",
        "## ¿Par o impar?\n",
        "Preguntar al usuario por un numero e imprimir 0 en caso de que se trate de un número **par** o un 1 se se trata de un número **impar**"
      ],
      "metadata": {
        "id": "JC8MV5zYvc0-"
      }
    },
    {
      "cell_type": "code",
      "source": [
        "# ¿Par o impar?\n"
      ],
      "metadata": {
        "colab": {
          "base_uri": "https://localhost:8080/"
        },
        "id": "iv5fVvT-vtR9",
        "outputId": "3d90d991-7bbb-469f-a774-6b34833f1db6"
      },
      "execution_count": null,
      "outputs": [
        {
          "output_type": "stream",
          "name": "stdout",
          "text": [
            "Escribe un numero: 44\n",
            "0\n"
          ]
        }
      ]
    }
  ]
}
