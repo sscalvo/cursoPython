{
  "nbformat": 4,
  "nbformat_minor": 0,
  "metadata": {
    "colab": {
      "provenance": []
    },
    "kernelspec": {
      "name": "python3",
      "display_name": "Python 3"
    },
    "language_info": {
      "name": "python"
    }
  },
  "cells": [
    {
      "cell_type": "markdown",
      "source": [
        "<a href=\"https://github.com/sscalvo/cursoPython/blob/main/Python_Dia1.ipynb\" target=\"_parent\"><img src=\"https://colab.research.google.com/assets/colab-badge.svg\" alt=\"Open In Colab\"/></a>"
      ],
      "metadata": {
        "id": "V7lCih_P10Lr"
      }
    },
    {
      "cell_type": "markdown",
      "source": [
        "# Curso Python\n",
        "* No se usan { }\n",
        "* No se declaran los tipos (a diferencia de Java o C)\n",
        "* No usa camelCase sino snake_case   \n",
        "* Indentado \n",
        "* Tipado dinámico, pero **fuertemente tipado**\n",
        "\n",
        "\n",
        "\n",
        "\n"
      ],
      "metadata": {
        "id": "jAZn69F8GaNv"
      }
    },
    {
      "cell_type": "markdown",
      "source": [
        "\n",
        "## Palabras reservadas\n",
        "Crea una celda nueva y usa el comando **help('keywords')** para obtener un listado de las palabras reservadas de Python"
      ],
      "metadata": {
        "id": "xXHYbEbclYUS"
      }
    },
    {
      "cell_type": "markdown",
      "source": [
        "## Tipos de datos\n",
        "\n",
        "*   Numéricos"
      ],
      "metadata": {
        "id": "fJHWEviRlRKN"
      }
    },
    {
      "cell_type": "code",
      "source": [
        "# Convertir entero a decimal (float)\n",
        "entero = 10\n",
        "print('entero',entero)           \n",
        "decimal = float(entero)\n",
        "print('decimal:', decimal)       \n",
        "\n",
        "# Convertir un valor con decimales a entero\n",
        "gravedad = 9.81\n",
        "print(int(gravedad))             \n",
        "print(type(int(gravedad)))       \n",
        "\n",
        "# Convertir entero a string\n",
        "cadena = str(entero)\n",
        "print(cadena)                    \n",
        "\n",
        "# Convertir string a entero o decimal\n",
        "cadena = '14' \n",
        "print('entero', int(cadena))    \n",
        "print('decimal', float(cadena))  "
      ],
      "metadata": {
        "id": "ZPeG9kTLi8Y3"
      },
      "execution_count": null,
      "outputs": []
    },
    {
      "cell_type": "markdown",
      "source": [
        "\n",
        "\n",
        "---\n",
        "\n",
        "\n",
        "## Calcula la distancia entre dos puntos del plano cartesiano\n",
        "* Punto 1 es (0,0)\n",
        "* Punto 2 es (3,4) \n",
        "\n",
        "Fórmula para calcular la hipotenusa de un triangulo:\n",
        "\n",
        "$$d= \\sqrt { ({x_2-x_1 })^{2} + ({y_2-y_1 })^{2} } $$\n",
        "\n",
        "Puedes ver aqui la imagen:\n",
        "\n",
        "https://ecuaciones.online/wp-content/uploads/2018/08/distancia-entre-dos-puntos-en-el-plano.jpg\n"
      ],
      "metadata": {
        "id": "YIQhbhgxoqeU"
      }
    },
    {
      "cell_type": "code",
      "execution_count": null,
      "metadata": {
        "id": "V9dNsj0VFpAg"
      },
      "outputs": [],
      "source": [
        "# Calcular distancia entre dos puntos:\n",
        "x2 = 3\n",
        "x1 = 0 \n",
        "y2 = 4\n",
        "y1 = 0\n"
      ]
    },
    {
      "cell_type": "markdown",
      "source": [
        "Haremos ahora la versión genérica, para cualquier par de puntos. Preguntaremos al usuario por cada una de las coordenadas, usando la función **input()** "
      ],
      "metadata": {
        "id": "3RUSMZD4uD5B"
      }
    },
    {
      "cell_type": "code",
      "source": [
        "# Distancia entre dos puntos cualquiera"
      ],
      "metadata": {
        "id": "QhAqlNo2uVgB"
      },
      "execution_count": null,
      "outputs": []
    },
    {
      "cell_type": "markdown",
      "source": [
        "\n",
        "\n",
        "---\n",
        "\n",
        "\n",
        "## ¿Par o impar?\n",
        "Preguntar al usuario por un numero e imprimir 0 en caso de que se trate de un número **par** o un 1 se se trata de un número **impar**"
      ],
      "metadata": {
        "id": "JC8MV5zYvc0-"
      }
    },
    {
      "cell_type": "code",
      "source": [
        "# ¿Par o impar?\n"
      ],
      "metadata": {
        "colab": {
          "base_uri": "https://localhost:8080/"
        },
        "id": "iv5fVvT-vtR9",
        "outputId": "3d90d991-7bbb-469f-a774-6b34833f1db6"
      },
      "execution_count": 10,
      "outputs": [
        {
          "output_type": "stream",
          "name": "stdout",
          "text": [
            "Escribe un numero: 44\n",
            "0\n"
          ]
        }
      ]
    }
  ]
}