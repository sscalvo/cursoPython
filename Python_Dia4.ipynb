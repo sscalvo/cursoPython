{
  "nbformat": 4,
  "nbformat_minor": 0,
  "metadata": {
    "colab": {
      "provenance": []
    },
    "kernelspec": {
      "name": "python3",
      "display_name": "Python 3"
    },
    "language_info": {
      "name": "python"
    }
  },
  "cells": [
    {
      "cell_type": "markdown",
      "source": [
        "<a href=\"https://colab.research.google.com/github/sscalvo/cursoPython/blob/main/Python_Dia3.ipynb\" target=\"_parent\"><img src=\"https://colab.research.google.com/assets/colab-badge.svg\" alt=\"Open In Colab\"/></a>"
      ],
      "metadata": {
        "id": "V7lCih_P10Lr"
      }
    },
    {
      "cell_type": "markdown",
      "source": [
        "# Curso Python - Dia 4\n",
        "## List comprehension\n",
        "Una list comprehension es una sintáxis muy compacta para crear una lista a partir de una secuencia de datos. Además, es más eficiente que procesar la lista usando un bucle for (ej: las llamadas a append son implicitas y no explicitas como en el caso del for).\n",
        "\n",
        "Su sintáxis más básica es:\n",
        "\n",
        "```\n",
        "[i for i in iterable]  # uhmm.. ¿qué era un iterable 😬? \n",
        " ```\n",
        "\n",
        "Una variante con condicional es:\n",
        "\n",
        "```\n",
        "[i for i in iterable if expression]  \n",
        "```\n",
        "\n",
        "Una variante del bucle anidado es:\n",
        "\n",
        "\n",
        "```\n",
        "[ elem for sublista in lista for elem in sublista]  \n",
        "\n",
        "```\n",
        "\n",
        "Veamos unos ejemplos..\n",
        "\n",
        "\n",
        "```\n",
        "numeros = [i for i in range(10, 22)]     # Generar una lista con números del 10 al 21\n",
        "print(numeros)                           # [10, 11, 12, 13, 14, 15, 16, 17, 18, 19, 20]\n",
        "\n",
        "cuadrados = [i * i for i in range(1,11)] # Cuadrados de los 10 primeros enteros\n",
        "print(cuadrados)                         # [1, 4, 9, 16, 25, 36, 49, 64, 81, 100]\n",
        "\n",
        "impares = [i for i in [5, 2, 6, 7, 1] if i%2 == 1] # Seleccionar los numeros impares\n",
        "print(impares)                                     # [5, 7, 1]\n",
        "```\n",
        "\n",
        "\n"
      ],
      "metadata": {
        "id": "jAZn69F8GaNv"
      }
    },
    {
      "cell_type": "markdown",
      "source": [
        "## Funciones lambda\n",
        "Una función lambda es una pequeña función anónima, sin nombre. Puede aceptar cualquier número de argumentos, pero solo puede tener una expresión. Las funciones lambda son similares a las funciones anónimas en JavaScript. Las usamos cuando queremos escribir una función anónima dentro de otra función.\n",
        "\n",
        "```\n",
        "def suma(a, b): # Función tradicional\n",
        "    return a + b  \n",
        "```\n",
        "\n",
        "Las funciones lambda no usan return ya que siempre devuelven la expresión.\n",
        "\n",
        "\n",
        "```\n",
        "suma = lambda a, b: a + b \n",
        "```\n",
        "Veamos unos ejemplos..\n",
        "\n",
        "\n",
        "```\n",
        "cuadrado = lambda x: x**2       # Elevar al cuadrado\n",
        "\n",
        "cubo = lambda x: x**3           # Elevar al cubo\n",
        "```\n",
        "\n",
        "\n",
        "\n"
      ],
      "metadata": {
        "id": "dzG7-jmLaVwU"
      }
    },
    {
      "cell_type": "markdown",
      "source": [],
      "metadata": {
        "id": "zwio81ZDbOj0"
      }
    }
  ]
}